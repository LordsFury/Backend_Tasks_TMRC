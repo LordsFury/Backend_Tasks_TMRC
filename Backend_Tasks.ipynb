{
 "cells": [
  {
   "cell_type": "code",
   "execution_count": 13,
   "id": "4aa4e145-1b01-491e-a6cd-ca7f006560f3",
   "metadata": {},
   "outputs": [
    {
     "name": "stdout",
     "output_type": "stream",
     "text": [
      "Sum of two numbers is =  49.8\n",
      "2  is even number\n",
      "4  is even number\n",
      "5  is odd number\n",
      "6  is even number\n",
      "11  is odd number\n",
      "8  is even number\n",
      "23  is odd number\n",
      "16  is even number\n",
      "21  is odd number\n",
      "28  is even number\n"
     ]
    }
   ],
   "source": [
    "#Data types, variables and if-else\n",
    "\n",
    "num2 = 4.8\n",
    "result = num1 + num2\n",
    "output = \"Sum of two numbers is = \"\n",
    "print(output, result)\n",
    "\n",
    "\n",
    "data = [2, 4, 5, 6, 11, 8, 23, 16, 21, 28] #list(mutable data type)\n",
    "for i in range(len(data)):\n",
    "    if data[i]%2 == 0:\n",
    "        print(data[i], f' is even number')\n",
    "    else:\n",
    "        print(data[i], f' is odd number')"
   ]
  },
  {
   "cell_type": "code",
   "execution_count": 14,
   "id": "46faded2-080a-4766-9c0e-f3408b9eb51d",
   "metadata": {},
   "outputs": [
    {
     "name": "stdout",
     "output_type": "stream",
     "text": [
      "{1: {'id': '01', 'name': 'Abdullah', 'age': '21'}, 2: {'id': '02', 'name': 'Ali', 'age': '22'}, 3: {'id': '03', 'name': 'Zain', 'age': '20'}, 4: {'id': '04', 'name': 'Fahad', 'age': '23'}}\n"
     ]
    }
   ],
   "source": [
    "#Dictionary and function\n",
    "\n",
    "records = {\n",
    "    1: {\"id\": \"01\", \"name\": \"Abdullah\", \"age\": \"21\"},\n",
    "    2: {\"id\": \"02\", \"name\": \"Ali\", \"age\": \"22\"},\n",
    "    3: {\"id\": \"03\", \"name\": \"Zain\", \"age\": \"20\"}\n",
    "}\n",
    " #Dictionary(mutable data type)\n",
    "def add_record(data, new_record):\n",
    "    new_id = max(data.keys()) + 1\n",
    "    data[new_id] = new_record\n",
    "    return data\n",
    "\n",
    "new_person = {\"id\": \"04\", \"name\": \"Fahad\", \"age\": \"23\"}\n",
    "records = add_record(records, new_person)\n",
    "print(records)"
   ]
  },
  {
   "cell_type": "code",
   "execution_count": 15,
   "id": "69aa13b3-f388-42df-aa6b-c450ac51919f",
   "metadata": {},
   "outputs": [
    {
     "name": "stdout",
     "output_type": "stream",
     "text": [
      "Ali with id 41 is Present\n",
      "Abdullah with id 42 is Absent\n",
      "Fahad with id 43 is Present\n",
      "Fahad with id 43 is in F-8/3 college\n"
     ]
    }
   ],
   "source": [
    "#class, object, and Inheritance\n",
    "\n",
    "class Person:\n",
    "    def __init__(self, name, id):\n",
    "        self.name=name\n",
    "        self.id=id\n",
    "    def clg(self, clg):\n",
    "        print(f\"{self.name} with id {self.id} is in {clg} college\")\n",
    "\n",
    "class Student(Person):\n",
    "    \n",
    "    def attendence(self, att):\n",
    "        print(f\"{self.name} with id {self.id} is {'Present' if att =='P' else 'Absent'}\")\n",
    "\n",
    "S1 = Student(\"Ali\", \"41\")\n",
    "S2 = Student(\"Abdullah\", \"42\")\n",
    "S3 = Student(\"Fahad\", \"43\")\n",
    "S1.attendence(\"P\")\n",
    "S2.attendence(\"A\")\n",
    "S3.attendence(\"P\")\n",
    "S3.clg(\"F-8/3\")"
   ]
  },
  {
   "cell_type": "code",
   "execution_count": 16,
   "id": "0138fac9-2a84-425b-aaad-b19406578fac",
   "metadata": {},
   "outputs": [
    {
     "name": "stdout",
     "output_type": "stream",
     "text": [
      "List\n",
      "['Ali', 'Zain']\n"
     ]
    }
   ],
   "source": [
    "#List and List comprehension\n",
    "\n",
    "students = [\"Ali\", \"Abdullah\", \"Zain\", \"Fahad\"]\n",
    "print(f'List')\n",
    "ids = [41, 42, 43, 44]\n",
    "odd_students = [students[i] for i in range(len(ids)) if ids[i] % 2 != 0]\n",
    "print(odd_students)"
   ]
  },
  {
   "cell_type": "code",
   "execution_count": 6,
   "id": "1587c769-3386-4db3-990e-7ced011ce89f",
   "metadata": {},
   "outputs": [
    {
     "name": "stdout",
     "output_type": "stream",
     "text": [
      "6\n",
      "100\n",
      "{'name': 'Ali', 'age': 25, 'city': 'Lahore', 'job': 'Developer'}\n"
     ]
    }
   ],
   "source": [
    "#Arguments (default, *Args, **Kwargs)\n",
    "\n",
    "def sum_all(*numbers):\n",
    "    return sum(numbers)\n",
    "\n",
    "print(sum_all(1, 2, 3))        \n",
    "print(sum_all(10, 20, 30, 40))  \n",
    "\n",
    "def build_profile(name, **info):\n",
    "    profile = {\"name\": name}\n",
    "    profile.update(info)\n",
    "    return profile\n",
    "\n",
    "print(build_profile(\"Ali\", age=25, city=\"Lahore\", job=\"Developer\"))"
   ]
  },
  {
   "cell_type": "code",
   "execution_count": 20,
   "id": "d4ae587b-af7c-4b88-bc1f-731be335120e",
   "metadata": {},
   "outputs": [
    {
     "name": "stdout",
     "output_type": "stream",
     "text": [
      "0\n",
      "2\n",
      "4\n",
      "6\n",
      "8\n",
      "10\n"
     ]
    }
   ],
   "source": [
    "#Iterator\n",
    "\n",
    "class EvenNumbers:\n",
    "    def __init__(self,limit):\n",
    "        self.limit=limit\n",
    "        self.current=0\n",
    "    def __iter__(self):\n",
    "        return self\n",
    "    def __next__(self):\n",
    "        if self.current>self.limit:\n",
    "            raise StopIteration\n",
    "        result=self.current\n",
    "        self.current+=2\n",
    "        return result\n",
    "\n",
    "evens = EvenNumbers(10)\n",
    "for num in evens:\n",
    "    print(num)"
   ]
  },
  {
   "cell_type": "code",
   "execution_count": 21,
   "id": "7464b97a-4b3c-445e-8a0e-f7d619cafc4e",
   "metadata": {},
   "outputs": [
    {
     "name": "stdout",
     "output_type": "stream",
     "text": [
      "0\n",
      "2\n",
      "4\n",
      "6\n",
      "8\n",
      "10\n"
     ]
    }
   ],
   "source": [
    "#Generator\n",
    "\n",
    "def even_numbers(limit):\n",
    "    num = 0\n",
    "    while num <= limit:\n",
    "        yield num\n",
    "        num += 2\n",
    "for n in even_numbers(10):\n",
    "    print(n)"
   ]
  },
  {
   "cell_type": "code",
   "execution_count": 16,
   "id": "61407778-4560-4ca2-a0a8-7bbd82f9c078",
   "metadata": {},
   "outputs": [
    {
     "name": "stdin",
     "output_type": "stream",
     "text": [
      "Enter Pin 1234\n"
     ]
    },
    {
     "name": "stdout",
     "output_type": "stream",
     "text": [
      "Transaction of Rs.5000 is successful.\n"
     ]
    }
   ],
   "source": [
    "#Decorator with arguments\n",
    "\n",
    "def decorator(func):\n",
    "    def wrapper(*args, **kwargs):\n",
    "        pin = input(\"Enter Pin\")\n",
    "        if pin == \"1234\":\n",
    "            func(*args, **kwargs)\n",
    "        else:\n",
    "            print(\"Invalid Pin\")\n",
    "    return wrapper\n",
    "\n",
    "@decorator\n",
    "def Transaction(money):\n",
    "    print(f'Transaction of Rs.{money} is successful.')\n",
    "Transaction(5000)"
   ]
  },
  {
   "cell_type": "code",
   "execution_count": 7,
   "id": "9a94e7bb-d487-48c6-aa1c-1435b44ddd24",
   "metadata": {},
   "outputs": [
    {
     "name": "stdout",
     "output_type": "stream",
     "text": [
      "Grade: B\n",
      "False\n",
      "True\n",
      "Bahria University\n"
     ]
    }
   ],
   "source": [
    "#static method, @class method, ad @property\n",
    "\n",
    "class Student:\n",
    "    school_name = \"Bahria University\"  \n",
    "    def __init__(self, name, marks):\n",
    "        self._name = name\n",
    "        self._marks = marks\n",
    "\n",
    "    @property\n",
    "    def grade(self):\n",
    "        if self._marks >= 90:\n",
    "            return \"A\"\n",
    "        elif self._marks >= 80:\n",
    "            return \"B\"\n",
    "        else:\n",
    "            return \"C\"\n",
    "\n",
    "    @staticmethod\n",
    "    def is_passing(marks):\n",
    "        return marks >= 50\n",
    "\n",
    "    @classmethod\n",
    "    def get_school_name(cls):\n",
    "        return cls.school_name\n",
    "\n",
    "s1 = Student(\"Abdullah\", 85)\n",
    "\n",
    "print(f\"Grade: {s1.grade}\") \n",
    "\n",
    "print(Student.is_passing(45))  \n",
    "print(Student.is_passing(65)) \n",
    "\n",
    "print(Student.get_school_name()) "
   ]
  },
  {
   "cell_type": "code",
   "execution_count": null,
   "id": "b6039861-b359-434b-8e66-5cca32aced54",
   "metadata": {},
   "outputs": [],
   "source": []
  }
 ],
 "metadata": {
  "kernelspec": {
   "display_name": "Python 3 (ipykernel)",
   "language": "python",
   "name": "python3"
  },
  "language_info": {
   "codemirror_mode": {
    "name": "ipython",
    "version": 3
   },
   "file_extension": ".py",
   "mimetype": "text/x-python",
   "name": "python",
   "nbconvert_exporter": "python",
   "pygments_lexer": "ipython3",
   "version": "3.13.5"
  }
 },
 "nbformat": 4,
 "nbformat_minor": 5
}
